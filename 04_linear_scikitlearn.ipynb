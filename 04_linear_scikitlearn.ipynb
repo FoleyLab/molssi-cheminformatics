{
 "cells": [
  {
   "cell_type": "markdown",
   "id": "18f7115f-1d6e-4128-aeaa-500d29912559",
   "metadata": {},
   "source": [
    "<div style=\"text-align:center;\">\n",
    "  <img src=\"custom/molssi_main_horizontal.png\" style=\"display: block; margin: 0 auto; max-height:200px;\">\n",
    "</div>\n",
    "\n",
    "# Linear Fitting with SciKitLearn\n",
    "\n",
    "<div class=\"alert alert-block alert-info\"> \n",
    "<h2>Overview</h2>\n",
    "\n",
    "<strong>Questions:</strong>\n",
    "\n",
    "* How can I fit a linear model using SciKitLearn?\n",
    "\n",
    "<strong>Objectives:</strong>\n",
    "\n",
    "* Build a dataset using RDKit.\n",
    "\n",
    "* Fit a linear model using SciKit Learn.\n",
    "\n",
    "</div>\n",
    "\n",
    "## Using RDKit to Build a Dataset\n",
    "\n",
    "We will either write the for loop together, or it will be a challenge to complete in groups. We may end the first day with this as a challenge."
   ]
  },
  {
   "cell_type": "code",
   "execution_count": null,
   "id": "34786210-5a68-4c5a-bbc9-22f18dabbbb3",
   "metadata": {},
   "outputs": [],
   "source": [
    "from rdkit import Chem\n",
    "from rdkit.Chem import Descriptors\n",
    "\n",
    "import numpy as np\n",
    "\n",
    "# Read SMILES strings from a file\n",
    "with open(\"data/amino_acids.txt\", \"r\") as f:\n",
    "    amino_acid_smiles = f.readlines()\n",
    "\n",
    "# Prepare lists to store molecular weights and number of heavy atoms\n",
    "molecules = []\n",
    "molecular_weight = []\n",
    "number_heavy = []\n",
    "\n",
    "# Compute molecular descriptors\n",
    "for smiles in amino_acid_smiles:\n",
    "    mol = Chem.MolFromSmiles(smiles.strip())\n",
    "    if mol:\n",
    "        molecules.append(mol)\n",
    "        mol_weight = Descriptors.MolWt(mol)\n",
    "        num_heavy = mol.GetNumHeavyAtoms()\n",
    "        molecular_weight.append(mol_weight)\n",
    "        number_heavy.append(num_heavy)\n",
    "\n",
    "# Convert lists to numpy arrays\n",
    "Y = np.array(molecular_weight).reshape(-1, 1)\n",
    "X = np.array(number_heavy).reshape(-1, 1)\n"
   ]
  },
  {
   "cell_type": "markdown",
   "id": "a3c7abdb-9371-4100-8405-8425a8d579a8",
   "metadata": {},
   "source": [
    "Now that we have prepared our X and Y variables, let's see how we would do a fit using scikitlearn.\n",
    "\n",
    "Typically when doing fitting with scikitlearn, the first thing you will do is to import the type of model you want to use. In our case, we are importing a `LinearRegression` model. This type of model performs ordinary least squares fitting. You will first import the model, then you will create a model object. After creation, you will give data to the model and tell it to perform a fit. Your model can then be used to make predictions.\n",
    "\n",
    "Now that you have imported the model, you can read more about it either on the SciKitLearn website, or by using the built-in Python help function.\n",
    "\n",
    "Before we do the fit, we first create the model. Then, we specify settings for it such as if we want the linear model to have an intercept. It will have one by default, but if you wanted to do an ordinary least squares fit without an intercept, you would specify it when you create the model."
   ]
  },
  {
   "cell_type": "code",
   "execution_count": null,
   "id": "c45a1208-da5f-4c4d-a343-5a457c3638b9",
   "metadata": {},
   "outputs": [],
   "source": [
    "import numpy as np\n",
    "import matplotlib.pyplot as plt\n",
    "from sklearn.linear_model import LinearRegression\n",
    "\n",
    "\n",
    "# Fit a linear regression model\n",
    "model = LinearRegression()\n",
    "model.fit(X, Y)"
   ]
  },
  {
   "cell_type": "markdown",
   "id": "a5b1c26b-1b51-47f4-bd63-bd746a021542",
   "metadata": {},
   "source": [
    "After we create the model, we give it data and call the fit function. Then, the model will contain information about coefficients and an intercept."
   ]
  },
  {
   "cell_type": "code",
   "execution_count": null,
   "id": "988351cd-b7b7-4bf2-9edc-91ea14cb7ca4",
   "metadata": {},
   "outputs": [],
   "source": [
    "print(f\"The coefficients are {model.coef_} and the intercept is {model.intercept_}.\")"
   ]
  },
  {
   "cell_type": "markdown",
   "id": "6d7d6a38-97d2-41f8-bfc4-9b2bbc0b7d31",
   "metadata": {},
   "source": [
    "Remember that each coefficient above corresponds to one of the features. For example, the coefficient (12.55) tells us that for every 1 heavy atom our molecular weight increases by 12.55 (what element does that roughly correspond to?).\n",
    "\n",
    "## Using the linear regression to make predictions\n",
    "\n",
    "One way we might evaluate our fit is to compare the values predicted by the model to the actual values."
   ]
  },
  {
   "cell_type": "code",
   "execution_count": null,
   "id": "618e0ea1-c18c-45d4-850b-95cfd363b497",
   "metadata": {},
   "outputs": [],
   "source": [
    "# Predict molecular weights using the linear model\n",
    "predicted_weight = model.predict(X)\n",
    "\n",
    "# Print the model coefficients\n",
    "print(f\"Model coefficient (slope): {model.coef_[0][0]}\")\n",
    "print(f\"Model intercept: {model.intercept_[0]}\")\n",
    "\n",
    "# Plot the results\n",
    "plt.scatter(number_heavy, molecular_weight, color='blue', label='Actual')\n",
    "plt.plot(number_heavy, predicted_weight, color='red', linewidth=2, label='Predicted')\n",
    "plt.xlabel('Number of Heavy Atoms')\n",
    "plt.ylabel('Molecular Weight')\n",
    "plt.title('Linear Regression: Molecular Weight vs. Number of Heavy Atoms')\n",
    "plt.legend()\n",
    "plt.show()"
   ]
  },
  {
   "cell_type": "markdown",
   "id": "239d79bd-8600-4b8d-8a37-f54d36bcf631",
   "metadata": {},
   "source": [
    "## $R_2$ Value"
   ]
  },
  {
   "cell_type": "code",
   "execution_count": null,
   "id": "3efdb2d1-0e06-4d49-a1fd-713e7a52f52b",
   "metadata": {},
   "outputs": [],
   "source": [
    "from sklearn.metrics import r2_score\n",
    "\n",
    "r2_score(predicted_weight, Y)"
   ]
  },
  {
   "cell_type": "code",
   "execution_count": null,
   "id": "ba7d143f-c952-4c3b-b69d-00bc6dfb1fa6",
   "metadata": {},
   "outputs": [],
   "source": []
  }
 ],
 "metadata": {
  "kernelspec": {
   "display_name": "Python 3 (ipykernel)",
   "language": "python",
   "name": "python3"
  },
  "language_info": {
   "codemirror_mode": {
    "name": "ipython",
    "version": 3
   },
   "file_extension": ".py",
   "mimetype": "text/x-python",
   "name": "python",
   "nbconvert_exporter": "python",
   "pygments_lexer": "ipython3",
   "version": "3.10.14"
  }
 },
 "nbformat": 4,
 "nbformat_minor": 5
}
