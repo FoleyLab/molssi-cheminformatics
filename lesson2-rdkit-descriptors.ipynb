{
 "cells": [
  {
   "cell_type": "markdown",
   "id": "43bd0719",
   "metadata": {},
   "source": [
    "# Lesson 2: Using RDKit to Extract Molecular Descriptors\n",
    "\n",
    "**Objective:** Learn how to convert SMILES strings into RDKit molecule objects and extract simple descriptors.\n",
    "We'll use a mock BitterDB dataset with SMILES and a bitterness label, and compute properties relevant to bitterness prediction."
   ]
  },
  {
   "cell_type": "code",
   "execution_count": null,
   "id": "e17311ce",
   "metadata": {},
   "outputs": [],
   "source": [
    "from rdkit import Chem\n",
    "from rdkit.Chem import Descriptors, Crippen, rdMolDescriptors, Lipinski\n",
    "import pandas as pd"
   ]
  },
  {
   "cell_type": "code",
   "execution_count": null,
   "id": "a7f5803a",
   "metadata": {},
   "outputs": [],
   "source": [
    "# Example dataset with SMILES and Bitter label\n",
    "data = {\n",
    "    'Name': ['Caffeine', 'Quinine', 'Saccharin', 'Sucrose', 'Denatonium'],\n",
    "    'SMILES': [\n",
    "        'Cn1cnc2c1c(=O)n(c(=O)n2C)C',\n",
    "        'CC1=C(C(=O)NC2=CC=CC=C12)C3=CC=CC=C3O',\n",
    "        'C1=CC=C(C=C1)C(=O)NS(=O)(=O)O',\n",
    "        'C(C1C(C(C(C(O1)O)O)O)O)O',\n",
    "        'CC[N+](C)(C)CCC1=CC=C(C=C1)C(=O)[O-]'\n",
    "    ],\n",
    "    'Bitter': [1, 1, 1, 0, 1]\n",
    "}\n",
    "df = pd.DataFrame(data)\n",
    "df"
   ]
  },
  {
   "cell_type": "code",
   "execution_count": null,
   "id": "a5d2dc78",
   "metadata": {},
   "outputs": [],
   "source": [
    "# Convert SMILES to RDKit molecules\n",
    "df['Mol'] = df['SMILES'].apply(Chem.MolFromSmiles)\n",
    "df['Mol'].head()"
   ]
  },
  {
   "cell_type": "code",
   "execution_count": null,
   "id": "9248b6e4",
   "metadata": {},
   "outputs": [],
   "source": [
    "# Define a function to calculate descriptors\n",
    "def calc_descriptors(mol):\n",
    "    return pd.Series({\n",
    "        'FormalCharge': Chem.GetFormalCharge(mol),\n",
    "        'MolWt': Descriptors.MolWt(mol),\n",
    "        'LogP': Crippen.MolLogP(mol),\n",
    "        'NumHDonors': Lipinski.NumHDonors(mol),\n",
    "        'NumHAcceptors': Lipinski.NumHAcceptors(mol),\n",
    "        'TPSA': rdMolDescriptors.CalcTPSA(mol),\n",
    "        'NumRotatableBonds': rdMolDescriptors.CalcNumRotatableBonds(mol)\n",
    "    })"
   ]
  },
  {
   "cell_type": "code",
   "execution_count": null,
   "id": "ff07d9ef",
   "metadata": {},
   "outputs": [],
   "source": [
    "# Apply descriptor calculation to all molecules\n",
    "descriptor_df = df['Mol'].apply(calc_descriptors)\n",
    "descriptor_df"
   ]
  },
  {
   "cell_type": "code",
   "execution_count": null,
   "id": "90f1454f",
   "metadata": {},
   "outputs": [],
   "source": [
    "# Combine with original dataset\n",
    "full_df = pd.concat([df, descriptor_df], axis=1)\n",
    "full_df.drop(columns='Mol')"
   ]
  },
  {
   "cell_type": "markdown",
   "id": "2ddaca1f",
   "metadata": {},
   "source": [
    "### YOU TRY 🧪\n",
    "Can you filter the molecules to show only those with:\n",
    "- A molecular weight below 350\n",
    "- A LogP value greater than 1?\n",
    "\n",
    "Use `full_df.query()` or boolean masking."
   ]
  },
  {
   "cell_type": "markdown",
   "id": "3e09de86",
   "metadata": {},
   "source": [
    "## Next Step\n",
    "In Lesson 3, we'll use these descriptors to train a simple machine learning model to predict bitterness!"
   ]
  }
 ],
 "metadata": {},
 "nbformat": 4,
 "nbformat_minor": 5
}
